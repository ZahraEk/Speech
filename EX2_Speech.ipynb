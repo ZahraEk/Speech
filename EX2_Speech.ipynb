{
  "nbformat": 4,
  "nbformat_minor": 0,
  "metadata": {
    "colab": {
      "provenance": [],
      "mount_file_id": "1QNRjr-Ba0oev3rRK7qLyXWecEV00kpNB",
      "authorship_tag": "ABX9TyMxqhXho5CALi2exinQh+Pf",
      "include_colab_link": true
    },
    "kernelspec": {
      "name": "python3",
      "display_name": "Python 3"
    },
    "language_info": {
      "name": "python"
    }
  },
  "cells": [
    {
      "cell_type": "markdown",
      "metadata": {
        "id": "view-in-github",
        "colab_type": "text"
      },
      "source": [
        "<a href=\"https://colab.research.google.com/github/ZahraEk/Speech/blob/main/EX2_Speech.ipynb\" target=\"_parent\"><img src=\"https://colab.research.google.com/assets/colab-badge.svg\" alt=\"Open In Colab\"/></a>"
      ]
    },
    {
      "cell_type": "code",
      "execution_count": 59,
      "metadata": {
        "colab": {
          "base_uri": "https://localhost:8080/",
          "height": 1000
        },
        "outputId": "501b1d03-b957-44db-a645-7f6f31bf6091",
        "id": "ScCnCPVzpvQZ"
      },
      "outputs": [
        {
          "output_type": "stream",
          "name": "stdout",
          "text": [
            "MFCCs : [[-359.67752    -361.4502     -369.0234     ... -373.36636\n",
            "  -351.6187     -329.8145    ]\n",
            " [  82.37858      96.87184     102.18004    ...  105.57614\n",
            "    87.58997      70.00835   ]\n",
            " [  31.45324      19.261736     13.898779   ...   13.247271\n",
            "    35.110035     53.88546   ]\n",
            " ...\n",
            " [   5.9108295     0.9415394    -4.7406397  ...   -4.50327\n",
            "    -2.1022093     3.1417801 ]\n",
            " [   5.6941442     1.5240294    -1.997078   ...   -1.2622166\n",
            "    -2.320697      0.65798295]\n",
            " [  -2.2594047    -1.3863492     0.5693344  ...    1.081316\n",
            "     3.7647789     8.317696  ]]\n",
            "MFCCs htk : [[-3.46296051e+02 -3.60951019e+02 -3.60432037e+02 -3.61206268e+02\n",
            "  -3.62244019e+02 -3.03551361e+02 -3.35741608e+02 -2.25529205e+02\n",
            "  -1.61462265e+02 -1.30364380e+02 -1.29979706e+02 -1.43105850e+02\n",
            "  -1.62043961e+02 -2.46093872e+02 -3.35657745e+02 -2.63206848e+02\n",
            "  -2.43330399e+02 -3.06517334e+02 -3.57688232e+02 -3.58800507e+02\n",
            "  -3.65390167e+02 -3.40092255e+02]\n",
            " [ 1.05754196e+02  1.18439667e+02  1.20925156e+02  1.20915085e+02\n",
            "   1.20773041e+02  6.64383774e+01  1.04459183e+02  9.58822937e+01\n",
            "   9.56632233e+01  9.66452179e+01  1.05346550e+02  9.99592896e+01\n",
            "   1.03727707e+02  8.09066544e+01  1.06942810e+02  4.84436188e+01\n",
            "   6.20492783e+01  9.80182953e+01  1.21681473e+02  1.20072891e+02\n",
            "   1.22809601e+02  1.07832108e+02]\n",
            " [ 3.96983223e+01  1.65433121e+01  1.47203732e+01  1.38087597e+01\n",
            "   1.66705666e+01  1.46452560e+01  2.08446331e+01 -1.84553108e+01\n",
            "  -6.99051361e+01 -9.43264160e+01 -9.92736893e+01 -9.09090271e+01\n",
            "  -8.02132721e+01 -2.19720268e+01  6.84178734e+00 -1.20673313e+01\n",
            "  -3.87161636e+01 -1.57852993e+01  9.99260807e+00  1.12501297e+01\n",
            "   1.54832935e+01  4.05402031e+01]\n",
            " [ 8.51676254e+01  8.77966003e+01  8.57105255e+01  8.41957169e+01\n",
            "   8.53335724e+01  1.12254448e+02  9.81031570e+01  1.32883636e+02\n",
            "   1.31970825e+02  1.16683701e+02  1.09608429e+02  1.14939514e+02\n",
            "   1.12268127e+02  1.26183044e+02  9.82667923e+01  1.46539368e+02\n",
            "   1.34467712e+02  1.05089249e+02  8.62435379e+01  8.55321655e+01\n",
            "   8.22091599e+01  8.21399689e+01]\n",
            " [ 1.62540054e+01  9.24507737e-01  2.59197712e+00 -2.33378291e-01\n",
            "   2.72317362e+00 -3.09099255e+01 -8.95229530e+00 -4.02004242e+01\n",
            "  -3.95913467e+01 -3.80751228e+01 -3.99981155e+01 -3.63305244e+01\n",
            "  -2.77614594e+01 -2.79702282e+01 -8.31023121e+00 -4.74095993e+01\n",
            "  -2.58331718e+01  1.32238042e+00  4.01368856e+00  3.06366301e+00\n",
            "   6.07125616e+00  7.94308376e+00]\n",
            " [ 1.52472696e+01  1.72109814e+01  1.70334511e+01  1.63849106e+01\n",
            "   1.82897568e+01  4.92192612e+01  2.58035717e+01  6.26791763e+00\n",
            "   6.83812523e+00  2.17325726e+01  1.15399094e+01  1.06148062e+01\n",
            "   9.22382545e+00  2.15888424e+01  1.92143784e+01  4.13385544e+01\n",
            "   3.41722488e+01  2.12991428e+01  1.58026485e+01  1.65546417e+01\n",
            "   1.62354355e+01  1.61713181e+01]\n",
            " [ 2.08429356e+01  1.15002861e+01  1.22084961e+01  1.55382566e+01\n",
            "   1.31713390e+01 -1.34966469e+01 -6.80236626e+00 -1.52535048e+01\n",
            "  -2.35035400e+01 -2.67356071e+01 -1.97974491e+01 -2.06353035e+01\n",
            "  -2.57150459e+01 -2.31448517e+01  7.04621029e+00  6.01279831e+00\n",
            "  -4.54905605e+00 -5.46111679e+00  1.34215231e+01  1.23563042e+01\n",
            "   1.16171608e+01  1.51284447e+01]\n",
            " [ 8.98305130e+00  3.82427692e+00  1.80877566e+00  3.11303902e+00\n",
            "   3.71391869e+00  1.56190205e+01  5.37309647e+00  5.74287510e+00\n",
            "  -5.79216480e-02  7.00706387e+00  6.85172939e+00  8.64548683e+00\n",
            "   1.43079853e+01  1.80191784e+01  4.38133860e+00  5.70998001e+00\n",
            "   1.60164433e+01  1.03715410e+01  7.60959864e-01  2.17154145e+00\n",
            "   6.05687618e+00  9.29215813e+00]\n",
            " [ 1.22642212e+01  1.03335390e+01  1.08969688e+01  9.13516521e+00\n",
            "   9.18007469e+00  5.57871342e+00  8.07607841e+00 -4.72513771e+00\n",
            "   1.73609943e+01  2.77525215e+01  3.33251801e+01  2.47461758e+01\n",
            "   2.26512432e+01  1.49419327e+01  1.53743744e+01  6.73955107e+00\n",
            "   1.03556347e+01  1.54562569e+01  1.12446766e+01  1.12521763e+01\n",
            "   1.12676926e+01  7.56331539e+00]\n",
            " [ 5.48621607e+00  1.94849277e+00  3.29226875e+00  1.47135949e+00\n",
            "   8.18392992e-01  3.47321224e+00  1.58173263e+00 -1.03686790e+01\n",
            "  -8.32395744e+00 -1.66686058e-01  1.05673428e+01  9.71181870e+00\n",
            "   1.92825544e+00 -1.29259186e+01  2.44279742e+00  1.39419943e-01\n",
            "  -5.06548500e+00  3.75546813e+00  3.31309199e+00  1.01415527e+00\n",
            "   5.84710836e-01  6.94633579e+00]\n",
            " [ 1.49604378e+01  1.64335651e+01  1.38244066e+01  1.66179848e+01\n",
            "   1.44089556e+01  2.26578522e+01  1.67275677e+01  2.08212929e+01\n",
            "   1.45546227e+01  1.59155483e+01  6.86659527e+00  1.04006205e+01\n",
            "   1.61016502e+01  2.53756599e+01  1.37322121e+01  2.57579689e+01\n",
            "   2.80091286e+01  2.17233887e+01  1.68235607e+01  1.45261917e+01\n",
            "   1.26457148e+01  9.12060452e+00]\n",
            " [ 1.18532314e+01  4.85318136e+00  5.80760670e+00  5.87550497e+00\n",
            "   5.94704914e+00 -1.18578768e+01 -2.69352317e+00  4.40250587e+00\n",
            "   1.49317694e+01  2.11385322e+00  7.25193977e-01 -3.37336969e+00\n",
            "  -7.57665277e-01  4.50073433e+00  1.98112047e+00 -8.00662422e+00\n",
            "  -5.55859566e+00 -3.89587784e+00  6.68430567e+00  9.06256676e+00\n",
            "   5.93012524e+00  1.05232410e+01]\n",
            " [-7.15788651e+00  2.67380047e+00 -1.43348455e+00  1.26888323e+00\n",
            "   9.27678049e-01  1.80657310e+01  3.38417435e+00  1.63985481e+01\n",
            "   1.27986450e+01  8.11206055e+00  6.10493326e+00  8.19936180e+00\n",
            "   5.91296482e+00  8.46885395e+00  4.37970448e+00  7.96175623e+00\n",
            "   5.03195906e+00  5.13489819e+00 -2.08641768e+00  3.35294753e-01\n",
            "   3.30112636e-01  5.15642643e+00]\n",
            " [ 6.15776443e+00  9.53535080e-01 -2.78000498e+00  3.75748825e+00\n",
            "   1.76423454e+00 -5.39809799e+00  1.90340614e+00 -2.79080009e+00\n",
            "  -7.58129692e+00 -9.22914505e+00 -6.67334843e+00 -4.68930769e+00\n",
            "  -4.15889645e+00 -3.28140783e+00  4.48733616e+00  3.85141909e-01\n",
            "   4.38459635e-01  1.49250853e+00  2.97590947e+00  1.92780900e+00\n",
            "   1.33184266e+00 -1.31061697e+00]\n",
            " [ 1.37907906e+01  8.25257111e+00  1.32752428e+01  1.22046041e+01\n",
            "   1.11574039e+01  1.63405914e+01  1.84999676e+01  1.12754450e+01\n",
            "   1.04875660e+01  6.28946972e+00  8.10170078e+00  8.99089050e+00\n",
            "   1.22686253e+01  1.46147499e+01  6.19796228e+00  1.07488251e+01\n",
            "   1.30222807e+01  9.07705402e+00  1.28066559e+01  1.47915821e+01\n",
            "   1.16000357e+01  1.48863325e+01]\n",
            " [ 6.43233681e+00  4.36442852e+00  4.09855175e+00  1.78773332e+00\n",
            "   2.10567504e-01 -3.70354748e+00 -7.30173707e-01 -1.78394294e+00\n",
            "  -5.65869474e+00 -1.28330269e+01 -1.63381729e+01 -1.51191015e+01\n",
            "  -1.20052452e+01 -3.66035414e+00 -5.62604809e+00 -7.38926506e+00\n",
            "  -5.48668814e+00 -3.29362059e+00  1.43480587e+00  1.04646230e+00\n",
            "   1.23276377e+00 -3.56666386e-01]\n",
            " [ 2.08824873e-01 -7.87657738e-01 -2.74388981e+00 -4.93435240e+00\n",
            "  -1.28711963e+00  3.54285264e+00 -2.61342454e+00  2.62265658e+00\n",
            "  -2.70591807e+00  5.53659725e+00  1.21058598e+01  1.48686886e+01\n",
            "   7.64365387e+00 -3.65649605e+00  4.36058617e+00  9.31546211e+00\n",
            "   6.99029160e+00 -1.91751528e+00 -1.19568789e+00 -3.72705364e+00\n",
            "   2.59697318e-01  1.33805704e+00]\n",
            " [ 2.01369047e+00  3.26221919e+00  3.96039677e+00  4.89827538e+00\n",
            "   5.41244507e+00  5.41159725e+00 -1.42639899e+00 -5.25811863e+00\n",
            "  -9.17476463e+00  1.62141180e+00  1.33110452e+00  9.67944503e-01\n",
            "  -2.02029169e-01 -7.60912716e-01  7.47663784e+00  2.16934085e+00\n",
            "   5.10344839e+00  1.21823177e+01  5.88281536e+00  6.29287004e+00\n",
            "   4.25509024e+00  7.53999138e+00]\n",
            " [ 1.18671620e+00  1.80228043e+00 -1.90978193e+00  3.24405885e+00\n",
            "   7.71213293e-01 -2.33775163e+00  4.00062275e+00  3.43410587e+00\n",
            "  -1.43450522e+00 -4.41767335e-01  3.79876256e-01 -3.16375971e+00\n",
            "  -1.31971145e+00  1.19900775e+00  7.55548477e-03 -3.66575956e+00\n",
            "  -3.28468871e+00  4.00982380e+00  6.91430330e-01  2.82315803e+00\n",
            "   1.62093616e+00 -1.80609298e+00]\n",
            " [ 3.56973147e+00  6.96775150e+00  5.35939932e+00  7.45429325e+00\n",
            "   3.89580727e+00  1.33857918e+01  1.24080057e+01  9.93472481e+00\n",
            "   6.28121376e+00  8.60251045e+00  7.82260180e+00  7.27926970e+00\n",
            "   7.14042377e+00  7.93699455e+00  7.94811344e+00  1.53323250e+01\n",
            "   8.40608406e+00  1.86040246e+00  5.66586924e+00  5.36113977e+00\n",
            "   9.70950508e+00  6.75313568e+00]]\n",
            "Number of windows mfccs : 40\n",
            "Number of windows mfccs_htk : 20\n",
            "Length of each feature mfccs : 44\n",
            "Length of each feature mfccs_htk : 22\n"
          ]
        },
        {
          "output_type": "display_data",
          "data": {
            "text/plain": [
              "<Figure size 1080x288 with 2 Axes>"
            ],
            "image/png": "[encoded data removed]"
          },
          "metadata": {
            "needs_background": "light"
          }
        }
      ],
      "source": [
        "import librosa\n",
        "import librosa.display\n",
        "import os\n",
        "import cv2\n",
        "import numpy as np\n",
        "import matplotlib.style as ms\n",
        "import matplotlib.pyplot as plt\n",
        "ms.use('seaborn-muted')\n",
        "\n",
        "#extract mfccs\n",
        "audio_path = \"data/test/te_f_01_01.wav\"\n",
        "x, sr = librosa.load(audio_path)\n",
        "mfccs = librosa.feature.mfcc(y=x, sr=sr, n_mfcc=40)\n",
        "mfccs_htk = librosa.feature.mfcc(y=x, sr=sr, hop_length=1024, htk=True)\n",
        "\n",
        "\n",
        "#print & display\n",
        "print(\"MFCCs :\", mfccs)\n",
        "print(\"MFCCs htk :\", mfccs_htk)\n",
        "\n",
        "print(\"Number of windows mfccs :\",mfccs.shape[0])\n",
        "print(\"Number of windows mfccs_htk :\",mfccs_htk.shape[0])\n",
        "\n",
        "print(\"Length of each feature mfccs :\",mfccs.shape[1])\n",
        "print(\"Length of each feature mfccs_htk :\", mfccs_htk.shape[1])\n",
        "\n",
        "fig, ax = plt.subplots(ncols=2, figsize=(15,4))\n",
        "librosa.display.specshow(mfccs, x_axis=\"time\", ax=ax[0])\n",
        "librosa.display.specshow(mfccs_htk, x_axis=\"time\", ax=ax[1])\n",
        "ax[0].set_title(\"MFCC\")\n",
        "ax[1].set_title(\"MFCC_htk\")\n",
        "plt.show()\n",
        "\n",
        "#Save MFCCs figure & text\n",
        "with open('MFCCs_text/mfccs.txt', 'w') as f:\n",
        "    f.write(\"MFCCS : \\n\")\n",
        "    f.write(str(mfccs))\n",
        "    f.write(\"\\n MFCCS_htk : \\n\")\n",
        "    f.write(str(mfccs_htk))\n",
        "    f.write(\"\\n Number of windows mfccs :\")\n",
        "    f.write(str(mfccs.shape[0]))\n",
        "    f.write(\"\\n Number of windows mfccs_htk :\")\n",
        "    f.write(str(mfccs_htk.shape[0]))\n",
        "    f.write(\"\\n Length of each feature mfccs :\")\n",
        "    f.write(str(mfccs.shape[1]))\n",
        "    f.write(\"\\n Length of each feature mfccs_htk :\")\n",
        "    f.write(str(mfccs_htk.shape[1]))\n",
        "\n",
        "fig.savefig('MFCCs/mfccs_.png')\n",
        "\n"
      ]
    },
    {
      "cell_type": "code",
      "source": [
        "import matplotlib.pyplot as plt\n",
        "import scipy\n",
        "\n",
        "audio_path = \"data/train/tr_f_01_02.wav\"\n",
        "\n",
        "#calcute lpc\n",
        "y, sr = librosa.load(audio_path, duration=0.020)\n",
        "a = librosa.lpc(y, order=2)\n",
        "b = np.hstack([[0], -1 * a[1:]])\n",
        "y_hat = scipy.signal.lfilter(b, [1], y)\n",
        "\n",
        "#Display lpc\n",
        "fig, ax = plt.subplots(figsize=(10,4))\n",
        "ax.plot(y, color=\"xkcd:dark cyan\")\n",
        "ax.plot(y_hat, linestyle='--', color=\"xkcd:grapefruit\")\n",
        "ax.legend(['y', 'y_hat'])\n",
        "ax.set_title('LP Model Forward Prediction')\n",
        "\n",
        "#save figure\n",
        "fig.savefig('LPC/lpc_.png')\n"
      ],
      "metadata": {
        "colab": {
          "base_uri": "https://localhost:8080/",
          "height": 298
        },
        "id": "M519Zw2cpc2E",
        "outputId": "9fbdde4b-db75-4baa-b0b0-99d77943ff72"
      },
      "execution_count": null,
      "outputs": [
        {
          "output_type": "execute_result",
          "data": {
            "text/plain": [
              "Text(0.5, 1.0, 'LP Model Forward Prediction')"
            ]
          },
          "metadata": {},
          "execution_count": 59
        },
        {
          "output_type": "display_data",
          "data": {
            "text/plain": [
              "<Figure size 720x288 with 1 Axes>"
            ],
            "image/png": "[encoded data removed]"
          },
          "metadata": {
            "needs_background": "light"
          }
        }
      ]
    }
  ]
}